{
 "cells": [
  {
   "cell_type": "code",
   "execution_count": 340,
   "metadata": {},
   "outputs": [],
   "source": [
    "using Revise; \n",
    "includet(\"TrajModules.jl\")\n",
    "using .atom_class\n",
    "using .SystemSetup\n",
    "using .utils\n",
    "using .BeamClass\n",
    "using .CoolTrap"
   ]
  },
  {
   "cell_type": "code",
   "execution_count": 17,
   "metadata": {},
   "outputs": [],
   "source": [
    "using DifferentialEquations"
   ]
  },
  {
   "cell_type": "code",
   "execution_count": 49,
   "metadata": {},
   "outputs": [],
   "source": [
    "using ProfileView\n",
    "using BenchmarkTools"
   ]
  },
  {
   "cell_type": "code",
   "execution_count": 358,
   "metadata": {},
   "outputs": [
    {
     "name": "stdout",
     "output_type": "stream",
     "text": [
      "Setting up MOT\n",
      "Fixing\n"
     ]
    },
    {
     "name": "stdout",
     "output_type": "stream",
     "text": [
      "Fixing\n",
      "Setting up Tweezer\n"
     ]
    }
   ],
   "source": [
    "\n",
    "\n",
    "function createSystem()\n",
    "    BField(x, y, z) = 800E-4 * [0, 0, 1]\n",
    "    atomType = cesiumAtom\n",
    "    OurSystem = System(atomType, BField, -4e-6:0.4e-7:4e-6)\n",
    "    return OurSystem\n",
    "end\n",
    "function createLight!(OurSystem)\n",
    "    #clear_beams(OurSystem)\n",
    "    stateF = (6, 1, 1.5, 5, 5)\n",
    "    stateI = (6, 0, 0.5, 4, 4)\n",
    "    detuning = 3e6\n",
    "    I_mot = 14\n",
    "    beamAngle = 45 * pi / 180\n",
    "\n",
    "\n",
    "    println(\"Setting up MOT\")\n",
    "    updates0 = false\n",
    "    LocAll::Vector{Float64} = [0, 0, 0]\n",
    "    set_MOT(OurSystem, BeamProperties(LocAll, [-1.0, 0.0, 0.0], pol_v[\"sigma_m\"]),  stateI, stateF, detuning, I_mot, updates0)\n",
    "    set_MOT(OurSystem, BeamProperties(LocAll, [1.0, 0.0, 0.0], pol_v[\"sigma_p\"]),  stateI, stateF, detuning, I_mot, updates0)\n",
    "    #R1\n",
    "    #set_MOT(OurSystem, BeamProperties(LocAll, [0, sin(beamAngle), cos(beamAngle)], pol_v[\"sigma_m\"]),  stateI, stateF, detuning, I_mot,updates0)\n",
    "    #set_MOT(OurSystem, BeamProperties(LocAll, [0, -sin(beamAngle), -cos(beamAngle)], pol_v[\"sigma_p\"]),  stateI, stateF, detuning, I_mot, updates0)\n",
    "    #R2\n",
    "    #set_MOT(OurSystem, BeamProperties(LocAll, [0, -sin(beamAngle), cos(beamAngle)], pol_v[\"sigma_m\"]),  stateI, stateF, detuning, I_mot, updates0)\n",
    "    #set_MOT(OurSystem, BeamProperties(LocAll, [0, sin(beamAngle), -cos(beamAngle)], pol_v[\"sigma_p\"]),  stateI, stateF, detuning, I_mot, updates0)\n",
    "\n",
    "    println(\"Setting up Tweezer\")\n",
    "\n",
    "    #Tweezer\n",
    "    stateI_T = (6, 1, 1 / 2)\n",
    "    stateF_T = (6, 0, 1 / 2)\n",
    "    wavelength_tweezer = 1064E-9\n",
    "    trapR, trapZ = 2 * pi * 0.150e6, 2 * pi * 0.029e6\n",
    "\n",
    "    set_tweezer(OurSystem, BeamProperties(LocAll, [0.0, 0.0, 1.0], pol_v[\"pi\"]), stateI_T, stateF_T, wavelength_tweezer, trapR, trapZ)\n",
    "    #join_Beams(OurSystem)\n",
    "end\n",
    "\n",
    "OurSystem = createSystem()\n",
    "createLight!(OurSystem);\n"
   ]
  },
  {
   "cell_type": "code",
   "execution_count": 363,
   "metadata": {},
   "outputs": [],
   "source": [
    "using Revise; \n",
    "includet(\"TrajModules.jl\")\n",
    "using .atom_class\n",
    "using .SystemSetup\n",
    "using .utils\n",
    "using .BeamClass\n",
    "using .CoolTrap"
   ]
  },
  {
   "cell_type": "code",
   "execution_count": 367,
   "metadata": {},
   "outputs": [],
   "source": [
    "u0, param, RHS = InitializeProblem(OurSystem, 1, 1e-6, \"Fabs_spont_R\", opt_args=0.0);"
   ]
  },
  {
   "cell_type": "code",
   "execution_count": 368,
   "metadata": {},
   "outputs": [
    {
     "data": {
      "text/plain": [
       "simulate (generic function with 1 method)"
      ]
     },
     "metadata": {},
     "output_type": "display_data"
    }
   ],
   "source": [
    "function simulate(u0, param, RHS)\n",
    "\n",
    "    boundMin, boundMax = minimum(OurSystem.Environment.grid[1]), maximum(OurSystem.Environment.grid[1])\n",
    "    conditionStop(y, t, integrator) = !any(boundMin + 1e-6 .< y[1:3]) || !any(y[1:3] .< boundMax - 1e-6)\n",
    "    affect!(integrator) = terminate!(integrator)\n",
    "    cb = DiscreteCallback(conditionStop, affect!)\n",
    "\n",
    "    tspan = (0, 1e-6)\n",
    "    prob = ODEProblem(RHS, u0, tspan, param)\n",
    "    dt = 2e-9\n",
    "    sol = solve(prob, RK4(), dt=dt, adaptive=false)#, callback=cb, abstol=1e-3, reltol=1e-3)\n",
    "end\n"
   ]
  },
  {
   "cell_type": "code",
   "execution_count": 369,
   "metadata": {},
   "outputs": [
    {
     "data": {
      "text/plain": [
       "retcode: Success\n",
       "Interpolation: 3rd order Hermite\n",
       "t: 501-element Vector{Float64}:\n",
       " 0.0\n",
       " 2.0e-9\n",
       " 4.0e-9\n",
       " 6.000000000000001e-9\n",
       " 8.0e-9\n",
       " 1.0e-8\n",
       " 1.2e-8\n",
       " 1.4e-8\n",
       " 1.6e-8\n",
       " 1.8000000000000002e-8\n",
       " ⋮\n",
       " 9.840000000000083e-7\n",
       " 9.860000000000082e-7\n",
       " 9.880000000000082e-7\n",
       " 9.90000000000008e-7\n",
       " 9.92000000000008e-7\n",
       " 9.94000000000008e-7\n",
       " 9.96000000000008e-7\n",
       " 9.980000000000079e-7\n",
       " 1.0e-6\n",
       "u: 501-element Vector{Vector{Float64}}:\n",
       " [2.3358184042360397e-9, 5.666232731297495e-9, -1.0431172243527749e-8, 0.0012557617618143518, 0.010799929026824258, 0.013176156527674449]\n",
       " [2.3383299277596686e-9, 5.687832589351144e-9, -1.04048199304724e-8, 0.0012557617618143518, 0.010799929026824258, 0.013176156527674449]\n",
       " [2.3408414512832975e-9, 5.7094324474047925e-9, -1.0378467617417053e-8, 0.0012557617618143518, 0.010799929026824258, 0.013176156527674449]\n",
       " [2.3433529748069264e-9, 5.731032305458441e-9, -1.0352115304361705e-8, 0.0012557617618143518, 0.010799929026824258, 0.013176156527674449]\n",
       " [2.3458644983305553e-9, 5.75263216351209e-9, -1.0325762991306356e-8, 0.0012557617618143518, 0.010799929026824258, 0.013176156527674449]\n",
       " [2.3483760218541842e-9, 5.774232021565739e-9, -1.0299410678251008e-8, 0.0012557617618143518, 0.010799929026824258, 0.013176156527674449]\n",
       " [2.350887545377813e-9, 5.795831879619388e-9, -1.027305836519566e-8, -2.051814728651579e19, 0.010799929026824258, 0.013176156527674449]\n",
       " [-4.103629457303158e10, 5.8174317376730364e-9, -1.0246706052140312e-8, -2.051814728651579e19, 0.010799929026824258, 0.013176156527674449]\n",
       " [-8.207258914606316e10, 5.839031595726685e-9, -1.0220353739084964e-8, -2.051814728651579e19, 0.010799929026824258, 0.013176156527674449]\n",
       " [-1.2310888371909474e11, 5.860631453780334e-9, -1.0194001426029616e-8, -2.051814728651579e19, 0.010799929026824258, 0.013176156527674449]\n",
       " ⋮\n",
       " [-1.994363916249323e13, 1.6293362893692464e-8, 2.5341657797038304e-9, -2.051814728651579e19, 0.010799929026824258, 0.013176156527674449]\n",
       " [-1.998467545706626e13, 1.6314962751746113e-8, 2.5605180927591794e-9, -2.051814728651579e19, 0.010799929026824258, 0.013176156527674449]\n",
       " [-2.0025711751639293e13, 1.6336562609799763e-8, 2.5868704058145283e-9, -2.051814728651579e19, 0.010799929026824258, 0.013176156527674449]\n",
       " [-2.0066748046212324e13, 1.6358162467853413e-8, 2.6132227188698772e-9, -2.051814728651579e19, 0.010799929026824258, 0.013176156527674449]\n",
       " [-2.0107784340785355e13, 1.6379762325907062e-8, 2.639575031925226e-9, -2.051814728651579e19, 0.010799929026824258, 0.013176156527674449]\n",
       " [-2.0148820635358387e13, 1.6401362183960712e-8, 2.665927344980575e-9, -2.051814728651579e19, 0.010799929026824258, 0.013176156527674449]\n",
       " [-2.0189856929931418e13, 1.642296204201436e-8, 2.692279658035924e-9, -2.051814728651579e19, 0.010799929026824258, 0.013176156527674449]\n",
       " [-2.023089322450445e13, 1.644456190006801e-8, 2.718631971091273e-9, -2.051814728651579e19, 0.010799929026824258, 0.013176156527674449]\n",
       " [-2.027192951907732e13, 1.6466161758121575e-8, 2.7449842841465177e-9, -2.051814728651579e19, 0.010799929026824258, 0.013176156527674449]"
      ]
     },
     "metadata": {},
     "output_type": "display_data"
    }
   ],
   "source": [
    "simulate(u0, param, RHS)\n"
   ]
  },
  {
   "cell_type": "code",
   "execution_count": 162,
   "metadata": {},
   "outputs": [],
   "source": [
    "using PyPlot"
   ]
  },
  {
   "cell_type": "code",
   "execution_count": null,
   "metadata": {},
   "outputs": [],
   "source": []
  },
  {
   "cell_type": "code",
   "execution_count": 165,
   "metadata": {},
   "outputs": [
    {
     "name": "stdout",
     "output_type": "stream",
     "text": [
      "1\n"
     ]
    }
   ],
   "source": [
    "using Random\n",
    "a = [1, 2, 3, 4, 5]\n",
    "b = randn(length(a))\n",
    "println(findfirst(a .> b))"
   ]
  },
  {
   "cell_type": "markdown",
   "metadata": {},
   "source": []
  },
  {
   "cell_type": "code",
   "execution_count": 68,
   "metadata": {},
   "outputs": [
    {
     "ename": "MethodError",
     "evalue": "MethodError: no method matching push!(::Tuple{Int64, Int64, Int64, String}, ::Int64)\nClosest candidates are:\n  push!(::Any, ::Any, !Matched::Any) at abstractarray.jl:3059\n  push!(::Any, ::Any, !Matched::Any, !Matched::Any...) at abstractarray.jl:3060\n  push!(!Matched::DataStructures.DisjointSets{T}, ::T) where T at ~/.julia/packages/DataStructures/CvTHU/src/disjoint_set.jl:230\n  ...",
     "output_type": "error",
     "traceback": [
      "MethodError: no method matching push!(::Tuple{Int64, Int64, Int64, String}, ::Int64)\n",
      "Closest candidates are:\n",
      "  push!(::Any, ::Any, !Matched::Any) at abstractarray.jl:3059\n",
      "  push!(::Any, ::Any, !Matched::Any, !Matched::Any...) at abstractarray.jl:3060\n",
      "  push!(!Matched::DataStructures.DisjointSets{T}, ::T) where T at ~/.julia/packages/DataStructures/CvTHU/src/disjoint_set.jl:230\n",
      "  ...\n",
      "\n",
      "Stacktrace:\n",
      " [1] top-level scope\n",
      "   @ ~/Desktop/Simulation/HighFieldImaging/SimulatorJulv2.ipynb:1"
     ]
    }
   ],
   "source": [
    "push!(tupl3, 2)"
   ]
  },
  {
   "cell_type": "code",
   "execution_count": 339,
   "metadata": {},
   "outputs": [
    {
     "data": {
      "text/plain": [
       "3"
      ]
     },
     "metadata": {},
     "output_type": "display_data"
    }
   ],
   "source": [
    "a = [1, 2, 3, 2]\n",
    "b = rand(length(a))\n",
    "inds = findall(a .> b)\n",
    "argmax(a[inds])"
   ]
  },
  {
   "cell_type": "code",
   "execution_count": null,
   "metadata": {},
   "outputs": [],
   "source": []
  }
 ],
 "metadata": {
  "kernelspec": {
   "display_name": "Julia 1.8.2",
   "language": "julia",
   "name": "julia-1.8"
  },
  "language_info": {
   "file_extension": ".jl",
   "mimetype": "application/julia",
   "name": "julia",
   "version": "1.8.2"
  },
  "orig_nbformat": 4
 },
 "nbformat": 4,
 "nbformat_minor": 2
}
