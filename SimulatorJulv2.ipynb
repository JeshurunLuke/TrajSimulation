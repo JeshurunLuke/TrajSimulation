{
 "cells": [
  {
   "cell_type": "code",
   "execution_count": 1,
   "metadata": {},
   "outputs": [],
   "source": [
    "using Revise; \n",
    "includet(\"TrajModules.jl\")\n",
    "using .atom_class\n",
    "using .SystemSetup\n",
    "using .utils\n",
    "using .BeamClass\n",
    "using .CoolTrap"
   ]
  },
  {
   "cell_type": "code",
   "execution_count": 3,
   "metadata": {},
   "outputs": [],
   "source": [
    "using DifferentialEquations"
   ]
  },
  {
   "cell_type": "code",
   "execution_count": 7,
   "metadata": {},
   "outputs": [],
   "source": [
    "using ProfileView\n",
    "using BenchmarkTools\n",
    "using PyPlot"
   ]
  },
  {
   "cell_type": "code",
   "execution_count": 4,
   "metadata": {},
   "outputs": [
    {
     "name": "stdout",
     "output_type": "stream",
     "text": [
      "Setting up MOT\n"
     ]
    },
    {
     "name": "stdout",
     "output_type": "stream",
     "text": [
      "Fixing\n"
     ]
    },
    {
     "name": "stdout",
     "output_type": "stream",
     "text": [
      "Fixing\n",
      "Setting up Tweezer\n"
     ]
    }
   ],
   "source": [
    "\n",
    "\n",
    "function createSystem()\n",
    "    BField(x, y, z) = 800E-4 * [0, 0, 1]\n",
    "    atomType = cesiumAtom\n",
    "    OurSystem = System(atomType, BField, -4e-6:0.4e-7:4e-6)\n",
    "    return OurSystem\n",
    "end\n",
    "function createLight!(OurSystem)\n",
    "    #clear_beams(OurSystem)\n",
    "    stateF = (6, 1, 1.5, 5, 5)\n",
    "    stateI = (6, 0, 0.5, 4, 4)\n",
    "    detuning = 3e6\n",
    "    I_mot = 14\n",
    "    beamAngle = 45 * pi / 180\n",
    "\n",
    "\n",
    "    println(\"Setting up MOT\")\n",
    "    updates0 = false\n",
    "    LocAll::Vector{Float64} = [0, 0, 0]\n",
    "    set_MOT(OurSystem, BeamProperties(LocAll, [-1.0, 0.0, 0.0], pol_v[\"sigma_m\"]),  stateI, stateF, detuning, I_mot, updates0)\n",
    "    set_MOT(OurSystem, BeamProperties(LocAll, [1.0, 0.0, 0.0], pol_v[\"sigma_p\"]),  stateI, stateF, detuning, I_mot, updates0)\n",
    "    #R1\n",
    "    #set_MOT(OurSystem, BeamProperties(LocAll, [0, sin(beamAngle), cos(beamAngle)], pol_v[\"sigma_m\"]),  stateI, stateF, detuning, I_mot,updates0)\n",
    "    #set_MOT(OurSystem, BeamProperties(LocAll, [0, -sin(beamAngle), -cos(beamAngle)], pol_v[\"sigma_p\"]),  stateI, stateF, detuning, I_mot, updates0)\n",
    "    #R2\n",
    "    #set_MOT(OurSystem, BeamProperties(LocAll, [0, -sin(beamAngle), cos(beamAngle)], pol_v[\"sigma_m\"]),  stateI, stateF, detuning, I_mot, updates0)\n",
    "    #set_MOT(OurSystem, BeamProperties(LocAll, [0, sin(beamAngle), -cos(beamAngle)], pol_v[\"sigma_p\"]),  stateI, stateF, detuning, I_mot, updates0)\n",
    "\n",
    "    println(\"Setting up Tweezer\")\n",
    "\n",
    "    #Tweezer\n",
    "    stateI_T = (6, 1, 1 / 2)\n",
    "    stateF_T = (6, 0, 1 / 2)\n",
    "    wavelength_tweezer = 1064E-9\n",
    "    trapR, trapZ = 2 * pi * 0.150e6, 2 * pi * 0.029e6\n",
    "\n",
    "    set_tweezer(OurSystem, BeamProperties(LocAll, [0.0, 0.0, 1.0], pol_v[\"pi\"]), stateI_T, stateF_T, wavelength_tweezer, trapR, trapZ)\n",
    "    #join_Beams(OurSystem)\n",
    "end\n",
    "\n",
    "OurSystem = createSystem()\n",
    "createLight!(OurSystem);\n"
   ]
  },
  {
   "cell_type": "code",
   "execution_count": 15,
   "metadata": {},
   "outputs": [
    {
     "name": "stderr",
     "output_type": "stream",
     "text": [
      "┌ Error: Failed to revise /Users/jluke/Desktop/Simulation/HighFieldImaging/TrajModules.jl\n",
      "│   exception = (LoadError(\"/Users/jluke/Desktop/Simulation/HighFieldImaging/TrajModules.jl\", 594, \"incomplete: \\\"module\\\" at /Users/jluke/Desktop/Simulation/HighFieldImaging/TrajModules.jl:418 requires end\"), Union{Ptr{Nothing}, Base.InterpreterIP}[Ptr{Nothing} @0x0000000299700733])\n",
      "└ @ Revise /Users/jluke/.julia/packages/Revise/7HQ7u/src/packagedef.jl:725\n",
      "┌ Warning: The running code does not match the saved version for the following files:\n",
      "│ \n",
      "│   /Users/jluke/Desktop/Simulation/HighFieldImaging/TrajModules.jl\n",
      "│ \n",
      "│ If the error was due to evaluation order, it can sometimes be resolved by calling `Revise.retry()`.\n",
      "│ Use Revise.errors() to report errors again. Only the first error in each file is shown.\n",
      "│ Your prompt color may be yellow until the errors are resolved.\n",
      "└ @ Revise /Users/jluke/.julia/packages/Revise/7HQ7u/src/packagedef.jl:833\n"
     ]
    }
   ],
   "source": [
    "using Revise; \n",
    "includet(\"TrajModules.jl\")\n",
    "using .atom_class\n",
    "using .SystemSetup\n",
    "using .utils\n",
    "using .BeamClass\n",
    "using .CoolTrap"
   ]
  },
  {
   "cell_type": "code",
   "execution_count": 7,
   "metadata": {},
   "outputs": [
    {
     "data": {
      "text/plain": [
       "10"
      ]
     },
     "metadata": {},
     "output_type": "display_data"
    }
   ],
   "source": [
    "threadCount(OurSystem)"
   ]
  },
  {
   "cell_type": "code",
   "execution_count": 5,
   "metadata": {},
   "outputs": [
    {
     "data": {
      "text/plain": [
       "simulate (generic function with 1 method)"
      ]
     },
     "metadata": {},
     "output_type": "display_data"
    }
   ],
   "source": [
    "function simulate(u0, param, RHS)\n",
    "\n",
    "    boundMin, boundMax = minimum(OurSystem.Environment.grid[1]), maximum(OurSystem.Environment.grid[1])\n",
    "    conditionStop(y, t, integrator) = !any(boundMin + 1e-6 .< y[1:3]) || !any(y[1:3] .< boundMax - 1e-6)\n",
    "    affect!(integrator) = terminate!(integrator)\n",
    "    cb = DiscreteCallback(conditionStop, affect!)\n",
    "\n",
    "    tspan = (0, 1e-6)\n",
    "    prob = ODEProblem(RHS, u0, tspan, param)\n",
    "    dt = 2e-9\n",
    "    sol = solve(prob, RK4(),  save_everystep = false, dt=dt, adaptive=false)#, callback=cb, abstol=1e-3, reltol=1e-3)\n",
    "    return sol.t, hcat(sol.u...)\n",
    "end\n"
   ]
  },
  {
   "cell_type": "code",
   "execution_count": 9,
   "metadata": {},
   "outputs": [],
   "source": [
    "using StaticArrays"
   ]
  },
  {
   "cell_type": "code",
   "execution_count": 11,
   "metadata": {},
   "outputs": [
    {
     "ename": "ErrorException",
     "evalue": "expression is not a function call, or is too complex for @code_warntype to analyze; break it down to simpler parts if possible. In some cases, you may want to use Meta.@lower.",
     "output_type": "error",
     "traceback": [
      "expression is not a function call, or is too complex for @code_warntype to analyze; break it down to simpler parts if possible. In some cases, you may want to use Meta.@lower.\n",
      "\n",
      "Stacktrace:\n",
      " [1] error(s::String)\n",
      "   @ Base ./error.jl:35\n",
      " [2] top-level scope\n",
      "   @ ~/Desktop/Simulation/HighFieldImaging/SimulatorJulv2.ipynb:4"
     ]
    }
   ],
   "source": [
    "\n",
    "u0, param, RHS! = InitializeProblem(OurSystem, 1, 1e-6, \"Fabs_spont_R\", opt_args=0.0);\n",
    "\n",
    "@code_warntype t, u = simulate(u0, param, RHS!)\n",
    "#x, y, z, vx, vy, vz = u[1, :],  u[2, :],  u[3, :],  u[4, :], u[5, :], u[6, :];"
   ]
  },
  {
   "cell_type": "code",
   "execution_count": 23,
   "metadata": {},
   "outputs": [
    {
     "data": {
      "text/plain": [
       "6-element SVector{6, Float64} with indices SOneTo(6):\n",
       " -7.856056780132389e-10\n",
       "  1.2300091062051335e-9\n",
       " -2.1800560931297977e-9\n",
       " -0.003660626169842217\n",
       " -0.000345860195726146\n",
       " -0.004419182154000644"
      ]
     },
     "metadata": {},
     "output_type": "display_data"
    }
   ],
   "source": [
    "using StaticArrays\n",
    "\n",
    "u0 = [-7.856056780132389e-10, 1.2300091062051335e-9, -2.1800560931297977e-9, -0.003660626169842217, -0.000345860195726146, -0.004419182154000644]\n",
    "u0_static = SVector{6}(u0)\n"
   ]
  },
  {
   "cell_type": "code",
   "execution_count": 34,
   "metadata": {},
   "outputs": [
    {
     "data": {
      "text/plain": [
       "501"
      ]
     },
     "metadata": {},
     "output_type": "display_data"
    }
   ],
   "source": [
    "length(t)"
   ]
  },
  {
   "cell_type": "code",
   "execution_count": 35,
   "metadata": {},
   "outputs": [
    {
     "data": {
      "image/png": "[encoded data removed]",
      "text/plain": [
       "Figure(PyObject <Figure size 640x480 with 1 Axes>)"
      ]
     },
     "metadata": {},
     "output_type": "display_data"
    }
   ],
   "source": [
    "\n",
    "\n",
    "fig = plt.figure()\n",
    "plot(t*1e3, y*1e6)\n",
    "\n",
    "#xlim([0, 1e-3])\n",
    "\n",
    "fig\n"
   ]
  },
  {
   "cell_type": "code",
   "execution_count": null,
   "metadata": {},
   "outputs": [],
   "source": []
  },
  {
   "cell_type": "code",
   "execution_count": null,
   "metadata": {},
   "outputs": [],
   "source": []
  },
  {
   "cell_type": "code",
   "execution_count": 370,
   "metadata": {},
   "outputs": [],
   "source": []
  },
  {
   "cell_type": "code",
   "execution_count": null,
   "metadata": {},
   "outputs": [],
   "source": []
  },
  {
   "cell_type": "code",
   "execution_count": 373,
   "metadata": {},
   "outputs": [
    {
     "name": "stdout",
     "output_type": "stream",
     "text": [
      "1\n"
     ]
    }
   ],
   "source": [
    "using Random\n",
    "a = [1, 2, 3, 4, 5]\n",
    "b = randn(length(a))\n",
    "println(findfirst(a .> b))"
   ]
  },
  {
   "cell_type": "markdown",
   "metadata": {},
   "source": []
  },
  {
   "cell_type": "code",
   "execution_count": 68,
   "metadata": {},
   "outputs": [
    {
     "ename": "MethodError",
     "evalue": "MethodError: no method matching push!(::Tuple{Int64, Int64, Int64, String}, ::Int64)\nClosest candidates are:\n  push!(::Any, ::Any, !Matched::Any) at abstractarray.jl:3059\n  push!(::Any, ::Any, !Matched::Any, !Matched::Any...) at abstractarray.jl:3060\n  push!(!Matched::DataStructures.DisjointSets{T}, ::T) where T at ~/.julia/packages/DataStructures/CvTHU/src/disjoint_set.jl:230\n  ...",
     "output_type": "error",
     "traceback": [
      "MethodError: no method matching push!(::Tuple{Int64, Int64, Int64, String}, ::Int64)\n",
      "Closest candidates are:\n",
      "  push!(::Any, ::Any, !Matched::Any) at abstractarray.jl:3059\n",
      "  push!(::Any, ::Any, !Matched::Any, !Matched::Any...) at abstractarray.jl:3060\n",
      "  push!(!Matched::DataStructures.DisjointSets{T}, ::T) where T at ~/.julia/packages/DataStructures/CvTHU/src/disjoint_set.jl:230\n",
      "  ...\n",
      "\n",
      "Stacktrace:\n",
      " [1] top-level scope\n",
      "   @ ~/Desktop/Simulation/HighFieldImaging/SimulatorJulv2.ipynb:1"
     ]
    }
   ],
   "source": [
    "push!(tupl3, 2)"
   ]
  },
  {
   "cell_type": "code",
   "execution_count": 339,
   "metadata": {},
   "outputs": [
    {
     "data": {
      "text/plain": [
       "3"
      ]
     },
     "metadata": {},
     "output_type": "display_data"
    }
   ],
   "source": [
    "a = [1, 2, 3, 2]\n",
    "b = rand(length(a))\n",
    "inds = findall(a .> b)\n",
    "argmax(a[inds])"
   ]
  },
  {
   "cell_type": "code",
   "execution_count": null,
   "metadata": {},
   "outputs": [],
   "source": []
  },
  {
   "cell_type": "code",
   "execution_count": null,
   "metadata": {},
   "outputs": [],
   "source": []
  },
  {
   "cell_type": "markdown",
   "metadata": {},
   "source": [
    "# SPEED"
   ]
  },
  {
   "cell_type": "code",
   "execution_count": 13,
   "metadata": {},
   "outputs": [
    {
     "data": {
      "text/plain": [
       "MOT_Beam{Float64}(2.2099411934454452e15, 3.0e6, [-7.37142281580863e6, 0.0, 0.0], 3.281495681821934e7, 3.281495681821934e7, 11.023700310506518, GaussianBeam(BeamProperties{Vector{Float64}}([0.0, 0.0, 0.0], [-1.0, 0.0, 0.0], ComplexF64[0.7071067811865475 + 0.0im, 0.0 - 0.7071067811865475im, 0.0 + 0.0im], 1.0e10, 1.0e10), 14.0, 2.2099411964454452e15), Main.CoolTrap.var\"#2#8\"{Float64}(0.3174977458942898), Environment_T(Any[[0.5369241691980856 0.5722739059351407 … 0.5722739059351407 0.5369241691980856; 0.5722739059351407 0.6104284527223567 … 0.6104284527223567 0.5722739059351407; … ; 0.5722739059351407 0.6104284527223567 … 0.6104284527223567 0.5722739059351407; 0.5369241691980856 0.5722739059351407 … 0.5722739059351407 0.5369241691980856;;; 0.5416457853041334 0.5773063813689993 … 0.5773063813689993 0.5416457853041334; 0.5773063813689993 0.6157964524871437 … 0.6157964524871437 0.5773063813689993; … ; 0.5773063813689993 0.6157964524871437 … 0.6157964524871437 0.5773063813689993; 0.5416457853041334 0.5773063813689993 … 0.5773063813689993 0.5416457853041334;;; 0.5464024607071709 0.5823762243157741 … 0.5823762243157741 0.5464024607071709; 0.5823762243157741 0.6212043111251992 … 0.6212043111251992 0.5823762243157741; … ; 0.5823762243157741 0.6212043111251992 … 0.6212043111251992 0.5823762243157741; 0.5464024607071709 0.5823762243157741 … 0.5823762243157741 0.5464024607071709;;; … ;;; 0.5464024607071707 0.5823762243157738 … 0.5823762243157738 0.5464024607071707; 0.5823762243157738 0.6212043111251989 … 0.6212043111251989 0.5823762243157738; … ; 0.5823762243157738 0.6212043111251989 … 0.6212043111251989 0.5823762243157738; 0.5464024607071707 0.5823762243157738 … 0.5823762243157738 0.5464024607071707;;; 0.5416457853041334 0.5773063813689993 … 0.5773063813689993 0.5416457853041334; 0.5773063813689993 0.6157964524871437 … 0.6157964524871437 0.5773063813689993; … ; 0.5773063813689993 0.6157964524871437 … 0.6157964524871437 0.5773063813689993; 0.5416457853041334 0.5773063813689993 … 0.5773063813689993 0.5416457853041334;;; 0.5369241691980856 0.5722739059351407 … 0.5722739059351407 0.5369241691980856; 0.5722739059351407 0.6104284527223567 … 0.6104284527223567 0.5722739059351407; … ; 0.5722739059351407 0.6104284527223567 … 0.6104284527223567 0.5722739059351407; 0.5369241691980856 0.5722739059351407 … 0.5722739059351407 0.5369241691980856]], var\"#BField#9\"(), (-4.0e-6:4.0e-8:4.0e-6, -4.0e-6:4.0e-8:4.0e-6, -4.0e-6:4.0e-8:4.0e-6)), [-1.0, 0.0, 0.0])"
      ]
     },
     "metadata": {},
     "output_type": "display_data"
    }
   ],
   "source": [
    "MOT_Test = OurSystem.MOTConfig[1]"
   ]
  },
  {
   "cell_type": "code",
   "execution_count": 14,
   "metadata": {},
   "outputs": [
    {
     "name": "stdout",
     "output_type": "stream",
     "text": [
      "MethodInstance for Main.CoolTrap.get_Fnet(::MOT_Beam{Float64}, ::Vector{Float64}, ::Vector{Float64})\n",
      "  from get_Fnet(MBeam::MOT_Beam, pos, vel) in Main.CoolTrap at /Users/jluke/Desktop/Simulation/HighFieldImaging/TrajModules.jl:237"
     ]
    },
    {
     "name": "stdout",
     "output_type": "stream",
     "text": [
      "\n",
      "Arguments\n",
      "  #self#\u001b[36m::Core.Const(Main.CoolTrap.get_Fnet)\u001b[39m"
     ]
    },
    {
     "name": "stdout",
     "output_type": "stream",
     "text": [
      "\n",
      "  MBeam\u001b[36m::MOT_Beam{Float64}\u001b[39m\n",
      "  pos\u001b[36m::Vector{Float64}\u001b[39m\n",
      "  vel\u001b[36m::Vector{Float64}\u001b[39m\n",
      "Body\u001b[91m\u001b[1m::Any\u001b[22m\u001b[39m\n"
     ]
    },
    {
     "name": "stdout",
     "output_type": "stream",
     "text": [
      "\u001b[90m1 ─\u001b[39m %1 = Core"
     ]
    },
    {
     "name": "stdout",
     "output_type": "stream",
     "text": [
      ".typeassert(MBeam, Main.CoolTrap.MOT_Beam)\u001b[36m::MOT_Beam{Float64}\u001b[39m"
     ]
    },
    {
     "name": "stdout",
     "output_type": "stream",
     "text": [
      "\n",
      "\u001b[90m│  \u001b[39m %2 = Main.CoolTrap.get_Fnet(%1, pos, vel, 0)\u001b[91m\u001b[1m::Any\u001b[22m\u001b[39m\n",
      "\u001b[90m└──\u001b[39m      return %2\n",
      "\n"
     ]
    }
   ],
   "source": [
    "@code_warntype get_Fnet(MOT_Test, [0.0, 0, 0], [0.0, 0, 0])"
   ]
  },
  {
   "cell_type": "code",
   "execution_count": null,
   "metadata": {},
   "outputs": [],
   "source": []
  }
 ],
 "metadata": {
  "kernelspec": {
   "display_name": "Julia 1.8.2",
   "language": "julia",
   "name": "julia-1.8"
  },
  "language_info": {
   "file_extension": ".jl",
   "mimetype": "application/julia",
   "name": "julia",
   "version": "1.8.2"
  },
  "orig_nbformat": 4
 },
 "nbformat": 4,
 "nbformat_minor": 2
}
