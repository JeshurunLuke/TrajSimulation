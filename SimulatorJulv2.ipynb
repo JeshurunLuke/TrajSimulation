{
 "cells": [
  {
   "cell_type": "code",
   "execution_count": 1,
   "metadata": {},
   "outputs": [],
   "source": [
    "using Revise; \n",
    "includet(\"TrajModules.jl\")\n",
    "using .atom_class\n",
    "using .SystemSetup\n",
    "using .utils\n",
    "using .BeamClass\n",
    "using .CoolTrap"
   ]
  },
  {
   "cell_type": "code",
   "execution_count": 2,
   "metadata": {},
   "outputs": [],
   "source": [
    "using DifferentialEquations"
   ]
  },
  {
   "cell_type": "code",
   "execution_count": 10,
   "metadata": {},
   "outputs": [],
   "source": [
    "using ProfileView\n",
    "using BenchmarkTools\n",
    "using PyPlot"
   ]
  },
  {
   "cell_type": "code",
   "execution_count": 3,
   "metadata": {},
   "outputs": [
    {
     "name": "stdout",
     "output_type": "stream",
     "text": [
      "Setting up MOT\n"
     ]
    },
    {
     "name": "stdout",
     "output_type": "stream",
     "text": [
      "Fixing\n"
     ]
    },
    {
     "name": "stdout",
     "output_type": "stream",
     "text": [
      "Fixing\n",
      "Setting up Tweezer\n"
     ]
    }
   ],
   "source": [
    "\n",
    "\n",
    "function createSystem()\n",
    "    BField(x, y, z) = 800E-4 * [0, 0, 1]\n",
    "    atomType = cesiumAtom\n",
    "    OurSystem = System(atomType, BField, -4e-6:0.4e-7:4e-6)\n",
    "    return OurSystem\n",
    "end\n",
    "function createLight!(OurSystem)\n",
    "    #clear_beams(OurSystem)\n",
    "    stateF = (6, 1, 1.5, 5, 5)\n",
    "    stateI = (6, 0, 0.5, 4, 4)\n",
    "    detuning = 3e6\n",
    "    I_mot = 14\n",
    "    beamAngle = 45 * pi / 180\n",
    "\n",
    "\n",
    "    println(\"Setting up MOT\")\n",
    "    updates0 = false\n",
    "    LocAll::Vector{Float64} = [0, 0, 0]\n",
    "    set_MOT(OurSystem, BeamProperties(LocAll, [-1.0, 0.0, 0.0], pol_v[\"sigma_m\"]),  stateI, stateF, detuning, I_mot, updates0)\n",
    "    set_MOT(OurSystem, BeamProperties(LocAll, [1.0, 0.0, 0.0], pol_v[\"sigma_p\"]),  stateI, stateF, detuning, I_mot, updates0)\n",
    "    #R1\n",
    "    #set_MOT(OurSystem, BeamProperties(LocAll, [0, sin(beamAngle), cos(beamAngle)], pol_v[\"sigma_m\"]),  stateI, stateF, detuning, I_mot,updates0)\n",
    "    #set_MOT(OurSystem, BeamProperties(LocAll, [0, -sin(beamAngle), -cos(beamAngle)], pol_v[\"sigma_p\"]),  stateI, stateF, detuning, I_mot, updates0)\n",
    "    #R2\n",
    "    #set_MOT(OurSystem, BeamProperties(LocAll, [0, -sin(beamAngle), cos(beamAngle)], pol_v[\"sigma_m\"]),  stateI, stateF, detuning, I_mot, updates0)\n",
    "    #set_MOT(OurSystem, BeamProperties(LocAll, [0, sin(beamAngle), -cos(beamAngle)], pol_v[\"sigma_p\"]),  stateI, stateF, detuning, I_mot, updates0)\n",
    "\n",
    "    println(\"Setting up Tweezer\")\n",
    "\n",
    "    #Tweezer\n",
    "    stateI_T = (6, 1, 1 / 2)\n",
    "    stateF_T = (6, 0, 1 / 2)\n",
    "    wavelength_tweezer = 1064E-9\n",
    "    trapR, trapZ = 2 * pi * 0.150e6, 2 * pi * 0.029e6\n",
    "\n",
    "    set_tweezer(OurSystem, BeamProperties(LocAll, [0.0, 0.0, 1.0], pol_v[\"pi\"]), stateI_T, stateF_T, wavelength_tweezer, trapR, trapZ)\n",
    "    #join_Beams(OurSystem)\n",
    "end\n",
    "\n",
    "OurSystem = createSystem()\n",
    "createLight!(OurSystem);\n"
   ]
  },
  {
   "cell_type": "code",
   "execution_count": 39,
   "metadata": {},
   "outputs": [],
   "source": [
    "using Revise; \n",
    "includet(\"TrajModules.jl\")\n",
    "using .atom_class\n",
    "using .SystemSetup\n",
    "using .utils\n",
    "using .BeamClass\n",
    "using .CoolTrap"
   ]
  },
  {
   "cell_type": "code",
   "execution_count": null,
   "metadata": {},
   "outputs": [],
   "source": []
  },
  {
   "cell_type": "code",
   "execution_count": 60,
   "metadata": {},
   "outputs": [
    {
     "data": {
      "text/plain": [
       "simulate (generic function with 1 method)"
      ]
     },
     "metadata": {},
     "output_type": "display_data"
    }
   ],
   "source": [
    "function simulate(u0, param, RHS)\n",
    "\n",
    "    boundMin, boundMax = minimum(OurSystem.Environment.grid[1]), maximum(OurSystem.Environment.grid[1])\n",
    "    conditionStop(y, t, integrator) = !any(boundMin + 1e-6 .< y[1:3]) || !any(y[1:3] .< boundMax - 1e-6)\n",
    "    affect!(integrator) = terminate!(integrator)\n",
    "    cb = DiscreteCallback(conditionStop, affect!)\n",
    "\n",
    "    tspan = (0, 1e-3)\n",
    "    prob = ODEProblem(RHS, u0, tspan, param)\n",
    "    dt = 2e-9\n",
    "    sol = solve(prob, RK4(), dt=dt, adaptive=false)#, callback=cb, abstol=1e-3, reltol=1e-3)\n",
    "    return sol.t, hcat(sol.u...)\n",
    "end\n"
   ]
  },
  {
   "cell_type": "code",
   "execution_count": 71,
   "metadata": {},
   "outputs": [],
   "source": []
  },
  {
   "cell_type": "code",
   "execution_count": 64,
   "metadata": {},
   "outputs": [],
   "source": [
    "u0, param, RHS = InitializeProblem(OurSystem, 1, 1e-6, \"Fabs_spont_R\", opt_args=0.0);\n",
    "t, u = simulate(u0, param, RHS)\n",
    "x, y, z, vx, vy, vz = u[1, :],  u[2, :],  u[3, :],  u[4, :], u[5, :], u[6, :];"
   ]
  },
  {
   "cell_type": "code",
   "execution_count": 68,
   "metadata": {},
   "outputs": [
    {
     "data": {
      "image/png": "[encoded data removed]",
      "text/plain": [
       "Figure(PyObject <Figure size 640x480 with 1 Axes>)"
      ]
     },
     "metadata": {},
     "output_type": "display_data"
    }
   ],
   "source": [
    "\n",
    "fig = plt.figure()\n",
    "plot(t, vx)\n",
    "#xlim([0, 1e-3])\n",
    "fig\n"
   ]
  },
  {
   "cell_type": "code",
   "execution_count": null,
   "metadata": {},
   "outputs": [],
   "source": []
  },
  {
   "cell_type": "code",
   "execution_count": 370,
   "metadata": {},
   "outputs": [],
   "source": []
  },
  {
   "cell_type": "code",
   "execution_count": null,
   "metadata": {},
   "outputs": [],
   "source": []
  },
  {
   "cell_type": "code",
   "execution_count": 373,
   "metadata": {},
   "outputs": [
    {
     "name": "stdout",
     "output_type": "stream",
     "text": [
      "1\n"
     ]
    }
   ],
   "source": [
    "using Random\n",
    "a = [1, 2, 3, 4, 5]\n",
    "b = randn(length(a))\n",
    "println(findfirst(a .> b))"
   ]
  },
  {
   "cell_type": "markdown",
   "metadata": {},
   "source": []
  },
  {
   "cell_type": "code",
   "execution_count": 68,
   "metadata": {},
   "outputs": [
    {
     "ename": "MethodError",
     "evalue": "MethodError: no method matching push!(::Tuple{Int64, Int64, Int64, String}, ::Int64)\nClosest candidates are:\n  push!(::Any, ::Any, !Matched::Any) at abstractarray.jl:3059\n  push!(::Any, ::Any, !Matched::Any, !Matched::Any...) at abstractarray.jl:3060\n  push!(!Matched::DataStructures.DisjointSets{T}, ::T) where T at ~/.julia/packages/DataStructures/CvTHU/src/disjoint_set.jl:230\n  ...",
     "output_type": "error",
     "traceback": [
      "MethodError: no method matching push!(::Tuple{Int64, Int64, Int64, String}, ::Int64)\n",
      "Closest candidates are:\n",
      "  push!(::Any, ::Any, !Matched::Any) at abstractarray.jl:3059\n",
      "  push!(::Any, ::Any, !Matched::Any, !Matched::Any...) at abstractarray.jl:3060\n",
      "  push!(!Matched::DataStructures.DisjointSets{T}, ::T) where T at ~/.julia/packages/DataStructures/CvTHU/src/disjoint_set.jl:230\n",
      "  ...\n",
      "\n",
      "Stacktrace:\n",
      " [1] top-level scope\n",
      "   @ ~/Desktop/Simulation/HighFieldImaging/SimulatorJulv2.ipynb:1"
     ]
    }
   ],
   "source": [
    "push!(tupl3, 2)"
   ]
  },
  {
   "cell_type": "code",
   "execution_count": 339,
   "metadata": {},
   "outputs": [
    {
     "data": {
      "text/plain": [
       "3"
      ]
     },
     "metadata": {},
     "output_type": "display_data"
    }
   ],
   "source": [
    "a = [1, 2, 3, 2]\n",
    "b = rand(length(a))\n",
    "inds = findall(a .> b)\n",
    "argmax(a[inds])"
   ]
  },
  {
   "cell_type": "code",
   "execution_count": null,
   "metadata": {},
   "outputs": [],
   "source": []
  }
 ],
 "metadata": {
  "kernelspec": {
   "display_name": "Julia 1.8.2",
   "language": "julia",
   "name": "julia-1.8"
  },
  "language_info": {
   "file_extension": ".jl",
   "mimetype": "application/julia",
   "name": "julia",
   "version": "1.8.2"
  },
  "orig_nbformat": 4
 },
 "nbformat": 4,
 "nbformat_minor": 2
}
