{
 "cells": [
  {
   "cell_type": "code",
   "execution_count": null,
   "metadata": {},
   "outputs": [],
   "source": [
    "using Revise; \n",
    "includet(\"TrajModules.jl\")\n",
    "using .atom_class\n",
    "using .SystemSetup\n",
    "using .utils\n",
    "using .BeamClass\n",
    "using .CoolTrap\n",
    "using .IntegrateODE"
   ]
  },
  {
   "cell_type": "code",
   "execution_count": null,
   "metadata": {},
   "outputs": [],
   "source": [
    "using ProfileView\n",
    "using BenchmarkTools\n",
    "using PyPlot"
   ]
  },
  {
   "cell_type": "markdown",
   "metadata": {},
   "source": [
    "## Creating the system and light"
   ]
  },
  {
   "cell_type": "code",
   "execution_count": 1,
   "metadata": {},
   "outputs": [
    {
     "ename": "LoadError",
     "evalue": "UndefVarError: `cesiumAtom` not defined",
     "output_type": "error",
     "traceback": [
      "UndefVarError: `cesiumAtom` not defined",
      "",
      "Stacktrace:",
      " [1] createSystem()",
      "   @ Main ./In[1]:3",
      " [2] top-level scope",
      "   @ In[1]:7"
     ]
    }
   ],
   "source": [
    "function createSystem()\n",
    "    BField(x, y, z) = 800E-4 * [0, 0, 1]\n",
    "    atomType = cesiumAtom\n",
    "    OurSystem = System(atomType, BField, -4e-6:0.4e-7:4e-6)\n",
    "    return OurSystem\n",
    "end\n",
    "OurSystem = createSystem();"
   ]
  },
  {
   "cell_type": "code",
   "execution_count": null,
   "metadata": {},
   "outputs": [],
   "source": [
    "function createTweezer(OurSystem)\n",
    "    clear_Tweezer(OurSystem)\n",
    "    stateI_T = (6, 1, 1 / 2)\n",
    "    stateF_T = (6, 0, 1 / 2)\n",
    "    wavelength_tweezer = 1064E-9\n",
    "    trapR, trapZ = 2 * pi * 0.150e6, 2 * pi * 0.029e6\n",
    "    \n",
    "    LocAll::Vector{Float64} = [0, 0, 0]\n",
    "    println(\"Setting up Tweezer\")\n",
    "    set_tweezer(OurSystem, BeamProperties(LocAll, [0.0, 0.0, 1.0], pol_v[\"pi\"]), stateI_T, stateF_T, wavelength_tweezer, trapR, trapZ)\n",
    "end\n",
    "createTweezer(OurSystem);"
   ]
  },
  {
   "cell_type": "code",
   "execution_count": null,
   "metadata": {},
   "outputs": [],
   "source": [
    "function createMOT(OurSystem)\n",
    "    clear_MOT(OurSystem)\n",
    "    stateF = (6, 1, 1.5, 5, 5)\n",
    "    stateI = (6, 0, 0.5, 4, 4)\n",
    "    detuning = 3e6\n",
    "    I_mot = 14\n",
    "    beamAngle = 45 * pi / 180\n",
    "\n",
    "\n",
    "    println(\"Setting up MOT\")\n",
    "    updates0 = false\n",
    "    LocAll::Vector{Float64} = [0, 0, 0]\n",
    "    set_MOT(OurSystem, BeamProperties(LocAll, [-1.0, 0.0, 0.0], pol_v[\"sigma_m\"]),  stateI, stateF, detuning, I_mot, updates0)\n",
    "    set_MOT(OurSystem, BeamProperties(LocAll, [1.0, 0.0, 0.0], pol_v[\"sigma_p\"]),  stateI, stateF, detuning, I_mot, updates0)\n",
    "    #R1\n",
    "    #set_MOT(OurSystem, BeamProperties(LocAll, [0, sin(beamAngle), cos(beamAngle)], pol_v[\"sigma_m\"]),  stateI, stateF, detuning, I_mot,updates0)\n",
    "    #set_MOT(OurSystem, BeamProperties(LocAll, [0, -sin(beamAngle), -cos(beamAngle)], pol_v[\"sigma_p\"]),  stateI, stateF, detuning, I_mot, updates0)\n",
    "    #R2\n",
    "    #set_MOT(OurSystem, BeamProperties(LocAll, [0, -sin(beamAngle), cos(beamAngle)], pol_v[\"sigma_m\"]),  stateI, stateF, detuning, I_mot, updates0)\n",
    "    #set_MOT(OurSystem, BeamProperties(LocAll, [0, sin(beamAngle), -cos(beamAngle)], pol_v[\"sigma_p\"]),  stateI, stateF, detuning, I_mot, updates0)\n",
    "end\n",
    "\n",
    "createMOT(OurSystem)"
   ]
  },
  {
   "cell_type": "code",
   "execution_count": null,
   "metadata": {},
   "outputs": [],
   "source": [
    "clear_beams(OurSystem)\n",
    "join_beams(OurSystem)\n",
    "println(\"Number of Total Beams: \", length(OurSystem.BeamConfig))\n",
    "println(\"Number of Tweezers Beams: \", length(OurSystem.TweezerConfig))\n",
    "println(\"Number of MOT Beams: \", length(OurSystem.MOTConfig))"
   ]
  },
  {
   "cell_type": "markdown",
   "metadata": {},
   "source": [
    "# Simulation "
   ]
  },
  {
   "cell_type": "code",
   "execution_count": null,
   "metadata": {},
   "outputs": [],
   "source": [
    "dt = 2e-9\n",
    "tspan = (0, 4e-3)\n",
    "sol = simulate(OurSystem, 1, 1e-3, \"Fabs_spont_R\", tspan, dt)"
   ]
  },
  {
   "cell_type": "code",
   "execution_count": null,
   "metadata": {},
   "outputs": [],
   "source": [
    "timeEval, x, y, z, vx, vy, vz, photons = processData(sol)"
   ]
  },
  {
   "cell_type": "code",
   "execution_count": null,
   "metadata": {},
   "outputs": [],
   "source": [
    "fig = plt.figure()\n",
    "plot(timeEval*1e3, x[1]*1e6)\n",
    "fig"
   ]
  }
 ],
 "metadata": {
  "kernelspec": {
   "display_name": "Julia 1.9.1",
   "language": "julia",
   "name": "julia-1.9"
  },
  "language_info": {
   "file_extension": ".jl",
   "mimetype": "application/julia",
   "name": "julia",
   "version": "1.9.1"
  },
  "orig_nbformat": 4
 },
 "nbformat": 4,
 "nbformat_minor": 2
}
