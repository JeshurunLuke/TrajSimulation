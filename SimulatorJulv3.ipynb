{
 "cells": [
  {
   "cell_type": "code",
   "execution_count": 7,
   "metadata": {},
   "outputs": [
    {
     "data": {
      "text/plain": [
       "12"
      ]
     },
     "metadata": {},
     "output_type": "display_data"
    }
   ],
   "source": [
    "using Base.Threads\n",
    "Threads.nthreads()\n"
   ]
  },
  {
   "cell_type": "code",
   "execution_count": 4,
   "metadata": {},
   "outputs": [],
   "source": [
    "using Revise; \n",
    "includet(\"TrajModules.jl\")\n",
    "using .atom_class\n",
    "using .SystemSetup\n",
    "using .utils\n",
    "using .BeamClass\n",
    "using .CoolTrap\n",
    "using .IntegrateODE"
   ]
  },
  {
   "cell_type": "markdown",
   "metadata": {},
   "source": [
    "## Creating the system and light"
   ]
  },
  {
   "cell_type": "code",
   "execution_count": 3,
   "metadata": {},
   "outputs": [],
   "source": [
    "includet(\"magneticFields.jl\")\n",
    "using .quadrapole"
   ]
  },
  {
   "cell_type": "code",
   "execution_count": 6,
   "metadata": {},
   "outputs": [],
   "source": [
    "using BenchmarkTools"
   ]
  },
  {
   "cell_type": "code",
   "execution_count": 5,
   "metadata": {},
   "outputs": [
    {
     "data": {
      "text/plain": [
       "Bfield_gen (generic function with 1 method)"
      ]
     },
     "metadata": {},
     "output_type": "display_data"
    }
   ],
   "source": [
    "BField_Generator = BfieldMag(20.0, 0.0)\n",
    "Bfield_gen(x,y , z) = Bnorm(BField_Generator, x, y, z)\n"
   ]
  },
  {
   "cell_type": "code",
   "execution_count": 9,
   "metadata": {},
   "outputs": [
    {
     "name": "stdout",
     "output_type": "stream",
     "text": [
      "Matrix"
     ]
    },
    {
     "name": "stdout",
     "output_type": "stream",
     "text": [
      "{Float64}"
     ]
    },
    {
     "name": "stdout",
     "output_type": "stream",
     "text": [
      "\n"
     ]
    },
    {
     "data": {
      "text/plain": [
       "3-element Vector{ComplexF64}:\n",
       "                0.0 + 0.0im\n",
       "                0.0 + 0.0im\n",
       " 0.9999999999999998 - 1.224646799147353e-16im"
      ]
     },
     "metadata": {},
     "output_type": "display_data"
    }
   ],
   "source": [
    "using LinearAlgebra\n",
    "function rot_mat(pos)\n",
    "    b_field = Bfield_gen(pos...)\n",
    " \n",
    "    beam_dir = [1, 0, 0]\n",
    " \n",
    "    # Compute cross_product and its norm once\n",
    "    cross_product = cross(b_field, beam_dir)\n",
    "    cross_product_norm = norm(cross_product)\n",
    " \n",
    "    # If cross_product is almost zero, vectors are parallel or antiparallel\n",
    "    if cross_product_norm < 1e-6\n",
    "        dot_product = dot(b_field, beam_dir)\n",
    "        # If dot_product is negative, vectors are antiparallel\n",
    "        if dot_product < 0\n",
    "            # Rotate by 180 degrees about any axis that is not parallel to beam_dir\n",
    "            axis = if isapprox(abs.(beam_dir), [1, 0, 0], atol=1e-6)\n",
    "                cross(beam_dir, [0, 1, 0])\n",
    "            else\n",
    "                cross(beam_dir, [1, 0, 0])\n",
    "            end\n",
    "            return rotation_matrix(axis, π)\n",
    "        else\n",
    "            return Matrix(I, 3, 3)\n",
    "        end\n",
    "    end\n",
    "end\n",
    "rot_mat2(pos) =rotation_matrix( cross(Bfield_gen(pos...), [1, 0, 0]),π)\n",
    "println(typeof(rot_mat2([1e-3, 0, 0])))\n",
    "rotated_pol(pos) = rot_mat(pos) * pol_v[\"sigma_p\"]\n",
    "decomposed_pol(pos) = decompose_spherical(rotated_pol(pos))\n",
    "ans2 = decomposed_pol([1e-3, 0, 0])"
   ]
  },
  {
   "cell_type": "code",
   "execution_count": 27,
   "metadata": {},
   "outputs": [
    {
     "data": {
      "text/plain": [
       "Matrix{Float64}\u001b[90m (alias for \u001b[39m\u001b[90mArray{Float64, 2}\u001b[39m\u001b[90m)\u001b[39m"
      ]
     },
     "execution_count": 27,
     "metadata": {},
     "output_type": "execute_result"
    }
   ],
   "source": [
    "typeof(Matrix(1.0I, 3, 3))"
   ]
  },
  {
   "cell_type": "code",
   "execution_count": 14,
   "metadata": {},
   "outputs": [],
   "source": [
    "using Interpolations\n",
    "function getBFieldInterpolate(Bfield_gen, grid)\n",
    "    grid = (grid, grid, grid)\n",
    "    PointGrid = ([i for i in Iterators.product(grid...)])\n",
    "    B_Field_array_x = [Bfield_gen(PointGrid[i, j, k]...)[1] for i in 1:size(PointGrid, 1), j in 1:size(PointGrid, 2), k in 1:size(PointGrid,3)]\n",
    "    B_Field_array_y = [Bfield_gen(PointGrid[i, j, k]...)[2] for i in 1:size(PointGrid, 1), j in 1:size(PointGrid, 2), k in 1:size(PointGrid,3)]\n",
    "    B_Field_array_z = [Bfield_gen(PointGrid[i, j, k]...)[3] for i in 1:size(PointGrid, 1), j in 1:size(PointGrid, 2), k in 1:size(PointGrid,3)]\n",
    "    B_field_int_x = interpolate(grid, B_Field_array_x, Gridded(Linear()))\n",
    "    B_field_int_y = interpolate(grid, B_Field_array_y, Gridded(Linear()))\n",
    "    B_field_int_z = interpolate(grid, B_Field_array_z, Gridded(Linear()))\n",
    "\n",
    "    B_Field(x, y, z) = [B_field_int_x[x, y, z], B_field_int_y[x, y, z], B_field_int_z[x, y, z]]\n",
    "    return B_Field\n",
    "end\n",
    "gridOI = -5e-3:1.01e-4:5e-3\n",
    "B_Field_int = getBFieldInterpolate(Bfield_gen, gridOI);\n"
   ]
  },
  {
   "cell_type": "code",
   "execution_count": 9,
   "metadata": {},
   "outputs": [
    {
     "data": {
      "text/plain": [
       "s0 (generic function with 1 method)"
      ]
     },
     "execution_count": 9,
     "metadata": {},
     "output_type": "execute_result"
    }
   ],
   "source": [
    "BeamGaussian = OurSystem.MOTConfig[1].Beam\n",
    "Isat = 14\n",
    "q = 1\n",
    "s0(pos) = get_Intensity(BeamGaussian, pos) / Isat * abs(decomposed_pol(pos)[q >= 0 ? q + 1 : end + 1 + q])^2 / norm(decomposed_pol(pos))^2"
   ]
  },
  {
   "cell_type": "code",
   "execution_count": 241,
   "metadata": {},
   "outputs": [
    {
     "data": {
      "text/plain": [
       "3-element Vector{Float64}:\n",
       " -0.001198127042551039\n",
       "  0.0\n",
       "  0.0"
      ]
     },
     "execution_count": 241,
     "metadata": {},
     "output_type": "execute_result"
    }
   ],
   "source": [
    "Bfield_gen(1e-3, 0, 0)"
   ]
  },
  {
   "cell_type": "code",
   "execution_count": 15,
   "metadata": {},
   "outputs": [
    {
     "ename": "LoadError",
     "evalue": "syntax: incomplete: premature end of input",
     "output_type": "error",
     "traceback": [
      "syntax: incomplete: premature end of input",
      "",
      "Stacktrace:",
      " [1] top-level scope",
      "   @ In[15]:1"
     ]
    }
   ],
   "source": [
    "typeof(OurSystem.MOTConfig[1].s0()"
   ]
  },
  {
   "cell_type": "code",
   "execution_count": 46,
   "metadata": {},
   "outputs": [],
   "source": [
    "using BenchmarkTools\n",
    "using ProfileView"
   ]
  },
  {
   "cell_type": "code",
   "execution_count": 57,
   "metadata": {},
   "outputs": [
    {
     "data": {
      "text/plain": [
       "3-element Vector{Float64}:\n",
       " -0.001198127042551039\n",
       "  0.0\n",
       "  0.0"
      ]
     },
     "execution_count": 57,
     "metadata": {},
     "output_type": "execute_result"
    }
   ],
   "source": [
    "Bfield_gen([1e-3, 0, 0]...)"
   ]
  },
  {
   "cell_type": "code",
   "execution_count": 61,
   "metadata": {},
   "outputs": [
    {
     "data": {
      "text/plain": [
       "8.577124028477186e6"
      ]
     },
     "execution_count": 61,
     "metadata": {},
     "output_type": "execute_result"
    }
   ],
   "source": []
  },
  {
   "cell_type": "code",
   "execution_count": 34,
   "metadata": {},
   "outputs": [
    {
     "data": {
      "text/plain": [
       "3×3 Matrix{Float64}:\n",
       " 1.0  0.0  0.0\n",
       " 0.0  1.0  0.0\n",
       " 0.0  0.0  1.0"
      ]
     },
     "execution_count": 34,
     "metadata": {},
     "output_type": "execute_result"
    }
   ],
   "source": [
    "Matrix(1.0I, 3, 3)"
   ]
  },
  {
   "cell_type": "code",
   "execution_count": 247,
   "metadata": {},
   "outputs": [
    {
     "data": {
      "text/plain": [
       "decomposed_pol (generic function with 1 method)"
      ]
     },
     "execution_count": 247,
     "metadata": {},
     "output_type": "execute_result"
    }
   ],
   "source": [
    "Beam = OurSystem.MOTConfig[1].Beam.beamStruct\n",
    "B_Field_func = OurSystem.Environment.B_Field\n",
    "using LinearAlgebra\n",
    "\n",
    "\n",
    "\n",
    "\n",
    "rotated_pol(pos) = rot_mat(pos) * Beam.pol\n",
    "decomposed_pol(pos) = decompose_spherical(rotated_pol(pos))\n"
   ]
  },
  {
   "cell_type": "code",
   "execution_count": 31,
   "metadata": {},
   "outputs": [
    {
     "ename": "LoadError",
     "evalue": "UndefVarError: B_Field_func not defined",
     "output_type": "error",
     "traceback": [
      "UndefVarError: B_Field_func not defined",
      "",
      "Stacktrace:",
      " [1] top-level scope",
      "   @ In[31]:2"
     ]
    }
   ],
   "source": [
    "pos = [-1e-3, 0, 0]\n",
    "println(cross(B_Field_func(pos...), Beam.dir))\n",
    "println(B_Field_func(pos...), Beam.dir)"
   ]
  },
  {
   "cell_type": "markdown",
   "metadata": {},
   "source": []
  },
  {
   "cell_type": "code",
   "execution_count": 15,
   "metadata": {},
   "outputs": [],
   "source": [
    "function createSystem(gridOI, B_field)\n",
    "    atomType = rubidiumAtom\n",
    "    OurSystem = System(atomType, B_field, gridOI)\n",
    "    return OurSystem\n",
    "end\n",
    "gridOI = -5e-3:1.01e-4:5e-3\n",
    "OurSystem = createSystem(gridOI, B_Field_int);\n"
   ]
  },
  {
   "cell_type": "code",
   "execution_count": 16,
   "metadata": {},
   "outputs": [
    {
     "name": "stdout",
     "output_type": "stream",
     "text": [
      "Setting up MOT"
     ]
    },
    {
     "name": "stdout",
     "output_type": "stream",
     "text": [
      "\n",
      "Dynamic\n",
      "Dynamic\n"
     ]
    }
   ],
   "source": [
    "function createMOT(OurSystem, detuning, I_mot::Vector{T}; updates0 = true) where T\n",
    "    clear_MOT(OurSystem)\n",
    "    stateF = (5, 1, 1.5, 3, 3)\n",
    "    stateI = (5, 0, 0.5, 2, 2)\n",
    "\n",
    "\n",
    "    println(\"Setting up MOT\")\n",
    "    LocAll::Vector{Float64} = [0, 0, 0]\n",
    "    set_MOT(OurSystem, BeamProperties(LocAll, [-1.0, 0.0, 0.0], pol_v[\"sigma_m\"]),  stateI, stateF, detuning, I_mot[1], updates0)\n",
    "    set_MOT(OurSystem, BeamProperties(LocAll, [1.0, 0.0, 0.0], pol_v[\"sigma_m\"]),  stateI, stateF, detuning, I_mot[2], updates0)\n",
    "end\n",
    "detuning = 3e6\n",
    "I_mot = [14, 14]#[0.7957747154594766, 0.7957747154594766]\n",
    "createMOT(OurSystem, detuning, I_mot);"
   ]
  },
  {
   "cell_type": "code",
   "execution_count": 1,
   "metadata": {},
   "outputs": [
    {
     "ename": "LoadError",
     "evalue": "LoadError: UndefVarError: @btime not defined\nin expression starting at c:\\Users\\SimulationComputer\\Documents\\JeshurunLuke\\TrajSimulation\\SimulatorJulv3.ipynb:1",
     "output_type": "error",
     "traceback": [
      "LoadError: UndefVarError: @btime not defined\n",
      "in expression starting at c:\\Users\\SimulationComputer\\Documents\\JeshurunLuke\\TrajSimulation\\SimulatorJulv3.ipynb:1\n"
     ]
    }
   ],
   "source": [
    "@btime get_scatteringrate(OurSystem.MOTConfig[1], [1e-3, 0, 0])"
   ]
  },
  {
   "cell_type": "code",
   "execution_count": 8,
   "metadata": {},
   "outputs": [
    {
     "name": "stdout",
     "output_type": "stream",
     "text": [
      "Number of Total Beams: 2\n",
      "Number of Tweezers Beams: 0\n",
      "Number of MOT Beams: 2\n"
     ]
    }
   ],
   "source": [
    "clear_beams(OurSystem)\n",
    "join_beams(OurSystem)\n",
    "println(\"Number of Total Beams: \", length(OurSystem.BeamConfig))\n",
    "println(\"Number of Tweezers Beams: \", length(OurSystem.TweezerConfig))\n",
    "println(\"Number of MOT Beams: \", length(OurSystem.MOTConfig))"
   ]
  },
  {
   "cell_type": "markdown",
   "metadata": {},
   "source": [
    "### MOT Field Gradient"
   ]
  },
  {
   "cell_type": "code",
   "execution_count": 161,
   "metadata": {},
   "outputs": [
    {
     "name": "stdout",
     "output_type": "stream",
     "text": [
      "B_Field Gradient, x = 119.81270425510391 G/cm; y = 119.81270425510391 G/cm; z = 239.64968935656307 G/cm\n"
     ]
    }
   ],
   "source": [
    "using LinearAlgebra\n",
    "step = 1e-4*10\n",
    "dbdx = (norm(Bfield_gen(step, 0, 0)) - norm(Bfield_gen(0, 0, 0)))/step*(1e4/100)\n",
    "dbdy = (norm(Bfield_gen(0, step, 0)) - norm(Bfield_gen(0, 0, 0)))/step*(1e4/100)\n",
    "dbdz = (norm(Bfield_gen(0, 0, step)) - norm(Bfield_gen(0, 0, 0)))/step*(1e4/100)\n",
    "println(\"B_Field Gradient, x = \", dbdx, \" G/cm\", \"; y = \", dbdy, \" G/cm; z = \", dbdz, \" G/cm\")"
   ]
  },
  {
   "cell_type": "code",
   "execution_count": 95,
   "metadata": {},
   "outputs": [
    {
     "data": {
      "text/plain": [
       "3-element Vector{Float64}:\n",
       " 0.9999999845943043\n",
       " 5.039605007139476\n",
       " 0.999999692813863"
      ]
     },
     "execution_count": 95,
     "metadata": {},
     "output_type": "execute_result"
    }
   ],
   "source": [
    "BField_Generator = BfieldMag(20.0, 0.0)\n",
    "Bfield_gen(x,y , z) = Bnorm(BField_Generator, x, y, z)\n",
    "\n",
    "x_i, y_i, z_i = 1e-4, 1e-5, 1e-5\n",
    "B_Field_int(x_i, y_i, z_i)./Bfield_gen(x_i,y_i , z_i)"
   ]
  },
  {
   "cell_type": "markdown",
   "metadata": {},
   "source": [
    "# Simulation "
   ]
  },
  {
   "cell_type": "code",
   "execution_count": 71,
   "metadata": {},
   "outputs": [
    {
     "data": {
      "text/plain": [
       "3-element Vector{Int64}:\n",
       " 0\n",
       " 0\n",
       " 0"
      ]
     },
     "execution_count": 71,
     "metadata": {},
     "output_type": "execute_result"
    }
   ],
   "source": [
    "OurSystem.Environment.B_Field(0, 0, 0)"
   ]
  },
  {
   "cell_type": "code",
   "execution_count": 80,
   "metadata": {},
   "outputs": [
    {
     "name": "stdout",
     "output_type": "stream",
     "text": [
      "-0.000310981164501698660.00031098116450169866\n"
     ]
    }
   ],
   "source": [
    "dt = 2e-9\n",
    "tspan = (0, 10e-6)\n",
    "sol = simulate(OurSystem, 1, 1e-3, \"Fabs_spont_R\", tspan, dt);"
   ]
  },
  {
   "cell_type": "code",
   "execution_count": 11,
   "metadata": {},
   "outputs": [
    {
     "data": {
      "text/plain": [
       "1"
      ]
     },
     "execution_count": 11,
     "metadata": {},
     "output_type": "execute_result"
    }
   ],
   "source": []
  },
  {
   "cell_type": "code",
   "execution_count": 79,
   "metadata": {},
   "outputs": [],
   "source": [
    "timeEval, x, y, z, vx, vy, vz, photons = processData(sol);"
   ]
  },
  {
   "cell_type": "code",
   "execution_count": 67,
   "metadata": {},
   "outputs": [],
   "source": [
    "using PyPlot"
   ]
  },
  {
   "cell_type": "code",
   "execution_count": 78,
   "metadata": {},
   "outputs": [
    {
     "data": {
      "image/png": "[encoded data removed]",
      "text/plain": [
       "Figure(PyObject <Figure size 640x480 with 1 Axes>)"
      ]
     },
     "metadata": {},
     "output_type": "display_data"
    },
    {
     "data": {
      "text/plain": [
       "1-element Vector{PyCall.PyObject}:\n",
       " PyObject <matplotlib.lines.Line2D object at 0x000000014B84FC88>"
      ]
     },
     "execution_count": 78,
     "metadata": {},
     "output_type": "execute_result"
    }
   ],
   "source": [
    "\n",
    "plot(timeEval*1e3, x[1]*1e3)\n"
   ]
  },
  {
   "cell_type": "code",
   "execution_count": null,
   "metadata": {},
   "outputs": [],
   "source": []
  }
 ],
 "metadata": {
  "kernelspec": {
   "display_name": "Julia 1.8.2",
   "language": "julia",
   "name": "julia-1.8"
  },
  "language_info": {
   "file_extension": ".jl",
   "mimetype": "application/julia",
   "name": "julia",
   "version": "1.8.2"
  },
  "orig_nbformat": 4
 },
 "nbformat": 4,
 "nbformat_minor": 2
}
